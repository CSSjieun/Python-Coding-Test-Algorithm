{
  "cells": [
    {
      "cell_type": "markdown",
      "metadata": {
        "id": "view-in-github",
        "colab_type": "text"
      },
      "source": [
        "<a href=\"https://colab.research.google.com/github/CSSjieun/Python-Coding-Test-Algorithm/blob/main/python_basic.ipynb\" target=\"_parent\"><img src=\"https://colab.research.google.com/assets/colab-badge.svg\" alt=\"Open In Colab\"/></a>"
      ]
    },
    {
      "cell_type": "code",
      "execution_count": null,
      "metadata": {
        "colab": {
          "base_uri": "https://localhost:8080/"
        },
        "id": "YW69lM4v7Lei",
        "outputId": "8726ff7c-e3d8-4cbf-c38d-f0fbb144a302"
      },
      "outputs": [
        {
          "name": "stdout",
          "output_type": "stream",
          "text": [
            "Hello World\n"
          ]
        }
      ],
      "source": [
        "print(\"Hello World\")\n",
        "# <- ctrl + / 로 도글\n",
        "# <- shift + enter 하면 실행하고 다음 셀로 넘어감\n",
        "# alt + enter 하면 실행하고 밑에다가 셀을 새로 만듦만듦\n",
        "# esc 하면 방향키 위아래로 셀 왔다갔다.\n",
        "# 이 모드에서 a 하면 위에 셀, b 하면 아래에 셀 만듦\n",
        "# ctrl + m, d 하면 셀 삭제 (ctrl + m, z는 셀 수준 실행 취소, ctrl + shift + y 는 셀 수준 다시 실행)\n",
        "# ctrl + z, ctrl + shift + z, ctrl + c, ctrl + v"
      ]
    },
    {
      "cell_type": "markdown",
      "metadata": {
        "id": "9Hza2Ljm8tYv"
      },
      "source": [
        "# 큰제목\n",
        "## 그 다음으로 큰\n",
        "### 그그 다음으로 큰\n",
        "**볼드**\n",
        "\n",
        "- 1\n",
        " - 1-1\n",
        "   - 1-1-1\n",
        "\n",
        "- 2\n",
        " - 2-1\n",
        "   - 2-1-1\n",
        "\n",
        "1. ㅁ\n",
        "2. ㄹ\n",
        "\n",
        "\n",
        "> abc\n",
        ">> abcdef\n",
        "\n",
        "$y=X$\n",
        "\n",
        "```python\n",
        "print(\"Hello World\")\n",
        "a=1\n",
        "b=2\n",
        "```\n",
        "[youtube](https://youtube.be/IJRxpLgT7oE)\n",
        "\n",
        "λ\n"
      ]
    },
    {
      "cell_type": "markdown",
      "metadata": {
        "id": "E0nV_C5r-_zL"
      },
      "source": [
        "## python is a calculation"
      ]
    },
    {
      "cell_type": "code",
      "execution_count": null,
      "metadata": {
        "colab": {
          "base_uri": "https://localhost:8080/"
        },
        "id": "xW3IsuyF_D2A",
        "outputId": "75bde2cc-0275-447b-8d79-96c037e45f7c"
      },
      "outputs": [
        {
          "name": "stdout",
          "output_type": "stream",
          "text": [
            "Hello\n"
          ]
        }
      ],
      "source": [
        "print(\"Hello\")"
      ]
    },
    {
      "cell_type": "code",
      "execution_count": null,
      "metadata": {
        "colab": {
          "base_uri": "https://localhost:8080/"
        },
        "id": "ptlI9oLvAMYG",
        "outputId": "c7d05042-43aa-4ab1-ba65-752ec2f64440"
      },
      "outputs": [
        {
          "data": {
            "text/plain": [
              "int"
            ]
          },
          "execution_count": 19,
          "metadata": {},
          "output_type": "execute_result"
        }
      ],
      "source": [
        "type(2) # int: integer 정수"
      ]
    },
    {
      "cell_type": "code",
      "execution_count": null,
      "metadata": {
        "colab": {
          "base_uri": "https://localhost:8080/"
        },
        "id": "0xvAf71fARY5",
        "outputId": "b2d94407-c2ae-4008-eb8f-d165172901db"
      },
      "outputs": [
        {
          "data": {
            "text/plain": [
              "float"
            ]
          },
          "execution_count": 21,
          "metadata": {},
          "output_type": "execute_result"
        }
      ],
      "source": [
        "type(2.0) #float: 실수 (부동소수점) OR type(2.)"
      ]
    },
    {
      "cell_type": "code",
      "execution_count": null,
      "metadata": {
        "colab": {
          "base_uri": "https://localhost:8080/"
        },
        "id": "2SeF3AnmAYd4",
        "outputId": "5cc36ef9-12b9-4f78-f449-04a579b82b2a"
      },
      "outputs": [
        {
          "data": {
            "text/plain": [
              "2"
            ]
          },
          "execution_count": 22,
          "metadata": {},
          "output_type": "execute_result"
        }
      ],
      "source": [
        "4//2 # 2.0 이면 \"두번째\" 라는 걸 못 나타내서 이런게 필요 // 몫을 뱉어주는 것"
      ]
    },
    {
      "cell_type": "code",
      "execution_count": null,
      "metadata": {
        "id": "a33dEz-AAhDh"
      },
      "outputs": [],
      "source": [
        "int(5/2) # 원래 2.5인데 Integer 정수 형태로 바꿔줘서 2를 반환함 (소수점 아래를 그냥 삭제)"
      ]
    },
    {
      "cell_type": "code",
      "execution_count": null,
      "metadata": {
        "colab": {
          "base_uri": "https://localhost:8080/"
        },
        "id": "A6HT4BH2ADrh",
        "outputId": "d6e4622b-de0c-479d-82ba-0b81a47d40f6"
      },
      "outputs": [
        {
          "data": {
            "text/plain": [
              "1"
            ]
          },
          "execution_count": 23,
          "metadata": {},
          "output_type": "execute_result"
        }
      ],
      "source": [
        "5%2 # 나머지를 알려준다. 유식한 말로 modulo 연산!"
      ]
    },
    {
      "cell_type": "code",
      "execution_count": null,
      "metadata": {
        "colab": {
          "base_uri": "https://localhost:8080/"
        },
        "id": "VuEC2pefAuLz",
        "outputId": "2d2fbcc2-2e90-442d-da13-7df198772de6"
      },
      "outputs": [
        {
          "data": {
            "text/plain": [
              "1024"
            ]
          },
          "execution_count": 24,
          "metadata": {},
          "output_type": "execute_result"
        }
      ],
      "source": [
        "2**10 # 2의 10승 열번 곱하지 말고 2^10하지 말고 2**10"
      ]
    },
    {
      "cell_type": "code",
      "execution_count": null,
      "metadata": {
        "colab": {
          "base_uri": "https://localhost:8080/"
        },
        "id": "jSzgN-VdA3qA",
        "outputId": "6dc928d0-c157-479d-e32e-4d4dbbbad160"
      },
      "outputs": [
        {
          "name": "stdout",
          "output_type": "stream",
          "text": [
            "3\n",
            "10\n"
          ]
        }
      ],
      "source": [
        "print(0b011) # 0b는 2진수\n",
        "print(0xA) # 0x는 16진수 # 그냥 하면 마지막 것만 보여줘서 둘다 print를 붙여줌"
      ]
    },
    {
      "cell_type": "code",
      "execution_count": null,
      "metadata": {
        "id": "SNNavAcMBPxx"
      },
      "outputs": [],
      "source": [
        "a = 10 # a 라는 이름의 변수에 10이라는 값을 \"집어넣는다\""
      ]
    },
    {
      "cell_type": "code",
      "execution_count": null,
      "metadata": {
        "colab": {
          "base_uri": "https://localhost:8080/"
        },
        "id": "kwsjQ9zkBb4w",
        "outputId": "9f6c5d12-d8df-48c1-92fc-0d3c87ec16e5"
      },
      "outputs": [
        {
          "name": "stdout",
          "output_type": "stream",
          "text": [
            "1\n",
            "a\n",
            "1\n"
          ]
        }
      ],
      "source": [
        "print(a) # a에 들어있는 값을 보여달라\n",
        "print(\"a\")\n",
        "a = 1 # 10을 집어 넣었다가 1을 집어 넣었으니 이제는 a에는 1이 들어가 있다\n",
        "print(a)"
      ]
    },
    {
      "cell_type": "code",
      "execution_count": null,
      "metadata": {
        "colab": {
          "base_uri": "https://localhost:8080/"
        },
        "id": "iB7rqI0WCL8R",
        "outputId": "374f45b7-06c2-48f9-ccb2-044cc1adb506"
      },
      "outputs": [
        {
          "name": "stdout",
          "output_type": "stream",
          "text": [
            "hello world\n"
          ]
        }
      ],
      "source": [
        "a = \"hello world\" # 수학에서의 등호와는 확실히 다르다\n",
        "print(a)"
      ]
    },
    {
      "cell_type": "code",
      "execution_count": null,
      "metadata": {
        "id": "pPS5qy79CQDR"
      },
      "outputs": [],
      "source": [
        "a1 = 1\n",
        "a2 = 2\n",
        "a3 = 3 # 변수명에서 숫자가 맨 앞에 올 수 없다"
      ]
    },
    {
      "cell_type": "code",
      "execution_count": null,
      "metadata": {
        "colab": {
          "background_save": true,
          "base_uri": "https://localhost:8080/"
        },
        "id": "q2U5m7ykChMv",
        "outputId": "4c464d5b-7436-4cb1-f093-880dc44f4d2d"
      },
      "outputs": [
        {
          "name": "stdout",
          "output_type": "stream",
          "text": [
            "3\n",
            "4\n"
          ]
        }
      ],
      "source": [
        "a = 3\n",
        "A = 4\n",
        "print(a)\n",
        "print(A)\n",
        "print(a); print(A)"
      ]
    },
    {
      "cell_type": "code",
      "execution_count": null,
      "metadata": {
        "id": "Ot6qMu15Cy9o"
      },
      "outputs": [],
      "source": [
        "# a-b=1\n",
        "# a*b=1\n",
        "# a**2=1"
      ]
    },
    {
      "cell_type": "code",
      "source": [
        "del a\n",
        "# print(a)"
      ],
      "metadata": {
        "colab": {
          "base_uri": "https://localhost:8080/",
          "height": 162
        },
        "id": "lCPA60YxDcc9",
        "outputId": "3c1ffbf0-19f2-4e9b-cdc7-67a6730e0792"
      },
      "execution_count": null,
      "outputs": [
        {
          "output_type": "error",
          "ename": "NameError",
          "evalue": "name 'a' is not defined",
          "traceback": [
            "\u001b[0;31m---------------------------------------------------------------------------\u001b[0m",
            "\u001b[0;31mNameError\u001b[0m                                 Traceback (most recent call last)",
            "\u001b[0;32m<ipython-input-48-c342333e421e>\u001b[0m in \u001b[0;36m<cell line: 2>\u001b[0;34m()\u001b[0m\n\u001b[1;32m      1\u001b[0m \u001b[0;32mdel\u001b[0m \u001b[0ma\u001b[0m\u001b[0;34m\u001b[0m\u001b[0;34m\u001b[0m\u001b[0m\n\u001b[0;32m----> 2\u001b[0;31m \u001b[0mprint\u001b[0m\u001b[0;34m(\u001b[0m\u001b[0ma\u001b[0m\u001b[0;34m)\u001b[0m\u001b[0;34m\u001b[0m\u001b[0;34m\u001b[0m\u001b[0m\n\u001b[0m",
            "\u001b[0;31mNameError\u001b[0m: name 'a' is not defined"
          ]
        }
      ]
    },
    {
      "cell_type": "code",
      "source": [
        "a=1; b=2\n",
        "c=a+b\n",
        "print(c)"
      ],
      "metadata": {
        "colab": {
          "base_uri": "https://localhost:8080/"
        },
        "id": "t7fNB-FWDhH6",
        "outputId": "9e9b12f4-27c9-46e5-8233-861784fadab4"
      },
      "execution_count": null,
      "outputs": [
        {
          "output_type": "stream",
          "name": "stdout",
          "text": [
            "3\n"
          ]
        }
      ]
    },
    {
      "cell_type": "code",
      "source": [
        "a=a+5 # update\n",
        "print(a)"
      ],
      "metadata": {
        "colab": {
          "base_uri": "https://localhost:8080/"
        },
        "id": "7WYc2Q1oDpOb",
        "outputId": "ea0dc018-34ba-4175-9949-565c225c129b"
      },
      "execution_count": null,
      "outputs": [
        {
          "output_type": "stream",
          "name": "stdout",
          "text": [
            "26\n"
          ]
        }
      ]
    },
    {
      "cell_type": "code",
      "source": [
        "a += 5 # a = a+5 와 동일\n",
        "print(a)"
      ],
      "metadata": {
        "colab": {
          "base_uri": "https://localhost:8080/"
        },
        "id": "YVEwIG--Dz1M",
        "outputId": "d5bcfe2c-8076-4b03-e41c-a0136c95187c"
      },
      "execution_count": null,
      "outputs": [
        {
          "output_type": "stream",
          "name": "stdout",
          "text": [
            "36\n"
          ]
        }
      ]
    },
    {
      "cell_type": "code",
      "source": [
        "a *= 2 # a = a*2\n",
        "print(a)"
      ],
      "metadata": {
        "colab": {
          "base_uri": "https://localhost:8080/"
        },
        "id": "73Jmu0EYD-33",
        "outputId": "4c5d7724-a2fe-4d28-ff80-056f55d291fb"
      },
      "execution_count": null,
      "outputs": [
        {
          "output_type": "stream",
          "name": "stdout",
          "text": [
            "72\n"
          ]
        }
      ]
    },
    {
      "cell_type": "code",
      "source": [
        "a /= 2 # 나누기를 만나면 자동으로 float 타입으로 바꾼다\n",
        "print(a)"
      ],
      "metadata": {
        "colab": {
          "base_uri": "https://localhost:8080/"
        },
        "id": "WMbsMfDNEFBu",
        "outputId": "d008c3c7-8d2e-4499-9f28-728f7ffc39b7"
      },
      "execution_count": null,
      "outputs": [
        {
          "output_type": "stream",
          "name": "stdout",
          "text": [
            "36.0\n"
          ]
        }
      ]
    },
    {
      "cell_type": "code",
      "source": [
        "x = 4\n",
        "print(x)\n",
        "print(\"x =\", x)"
      ],
      "metadata": {
        "colab": {
          "base_uri": "https://localhost:8080/"
        },
        "id": "wg-VSGr8EH4p",
        "outputId": "be21a7ac-f7f8-40e1-b29c-9f0df11e8a33"
      },
      "execution_count": null,
      "outputs": [
        {
          "output_type": "stream",
          "name": "stdout",
          "text": [
            "4\n",
            "x = 4\n"
          ]
        }
      ]
    },
    {
      "cell_type": "code",
      "source": [
        "print(\"Hello\",\"World\")"
      ],
      "metadata": {
        "colab": {
          "base_uri": "https://localhost:8080/"
        },
        "id": "SQNGbST4EUTx",
        "outputId": "83443e4e-d44c-4c1e-f840-b831f4df69c5"
      },
      "execution_count": null,
      "outputs": [
        {
          "output_type": "stream",
          "name": "stdout",
          "text": [
            "Hello World\n"
          ]
        }
      ]
    },
    {
      "cell_type": "code",
      "source": [
        "import numpy as np\n",
        "a = np.array([[1,2],[3,4]])\n",
        "np.linalg.inv(a)"
      ],
      "metadata": {
        "colab": {
          "base_uri": "https://localhost:8080/"
        },
        "id": "9ca8AvtAEiX3",
        "outputId": "ee5d0c8a-24c1-468c-fbd2-90b55b5dc5d6"
      },
      "execution_count": null,
      "outputs": [
        {
          "output_type": "execute_result",
          "data": {
            "text/plain": [
              "array([[-2. ,  1. ],\n",
              "       [ 1.5, -0.5]])"
            ]
          },
          "metadata": {},
          "execution_count": 66
        }
      ]
    },
    {
      "cell_type": "markdown",
      "source": [
        "## Python은 진화된 계산기"
      ],
      "metadata": {
        "id": "KxNCzQ_fFVOY"
      }
    },
    {
      "cell_type": "code",
      "source": [
        "a=1\n",
        "a==1 # 같냐?"
      ],
      "metadata": {
        "colab": {
          "base_uri": "https://localhost:8080/"
        },
        "id": "Gt7b2QA1FYxJ",
        "outputId": "6f01187f-397d-4425-8dc7-b1539684c8c0"
      },
      "execution_count": null,
      "outputs": [
        {
          "output_type": "execute_result",
          "data": {
            "text/plain": [
              "False"
            ]
          },
          "metadata": {},
          "execution_count": 67
        }
      ]
    },
    {
      "cell_type": "code",
      "source": [
        "a>3"
      ],
      "metadata": {
        "colab": {
          "base_uri": "https://localhost:8080/"
        },
        "id": "Lg--XvfSFiCm",
        "outputId": "0787252f-6c3d-42e7-964a-fc4db1505ee0"
      },
      "execution_count": null,
      "outputs": [
        {
          "output_type": "execute_result",
          "data": {
            "text/plain": [
              "False"
            ]
          },
          "metadata": {},
          "execution_count": 69
        }
      ]
    },
    {
      "cell_type": "code",
      "source": [
        "a>=3"
      ],
      "metadata": {
        "colab": {
          "base_uri": "https://localhost:8080/"
        },
        "id": "0sn29g34Fq-g",
        "outputId": "0f7c6ee8-3887-439d-9375-62820b6ec47b"
      },
      "execution_count": null,
      "outputs": [
        {
          "output_type": "execute_result",
          "data": {
            "text/plain": [
              "False"
            ]
          },
          "metadata": {},
          "execution_count": 71
        }
      ]
    },
    {
      "cell_type": "code",
      "source": [
        "a is 1"
      ],
      "metadata": {
        "colab": {
          "base_uri": "https://localhost:8080/"
        },
        "id": "3nCwuqEuFsJX",
        "outputId": "3df6d956-edc6-4d64-844a-6e2f1a5b83ce"
      },
      "execution_count": null,
      "outputs": [
        {
          "output_type": "stream",
          "name": "stderr",
          "text": [
            "<>:1: SyntaxWarning: \"is\" with a literal. Did you mean \"==\"?\n",
            "<>:1: SyntaxWarning: \"is\" with a literal. Did you mean \"==\"?\n",
            "<ipython-input-72-9a4f168196e7>:1: SyntaxWarning: \"is\" with a literal. Did you mean \"==\"?\n",
            "  a is 1\n"
          ]
        },
        {
          "output_type": "execute_result",
          "data": {
            "text/plain": [
              "True"
            ]
          },
          "metadata": {},
          "execution_count": 72
        }
      ]
    },
    {
      "cell_type": "code",
      "source": [
        "a is not 1"
      ],
      "metadata": {
        "colab": {
          "base_uri": "https://localhost:8080/"
        },
        "id": "TcpIJtczFuIj",
        "outputId": "6ac70b3b-2053-46f0-ad7d-e95bf1bb228e"
      },
      "execution_count": null,
      "outputs": [
        {
          "output_type": "stream",
          "name": "stderr",
          "text": [
            "<>:1: SyntaxWarning: \"is not\" with a literal. Did you mean \"!=\"?\n",
            "<>:1: SyntaxWarning: \"is not\" with a literal. Did you mean \"!=\"?\n",
            "<ipython-input-74-a0ea076735fa>:1: SyntaxWarning: \"is not\" with a literal. Did you mean \"!=\"?\n",
            "  a is not 1\n"
          ]
        },
        {
          "output_type": "execute_result",
          "data": {
            "text/plain": [
              "False"
            ]
          },
          "metadata": {},
          "execution_count": 74
        }
      ]
    },
    {
      "cell_type": "markdown",
      "source": [
        "## 여러개를 한 변수에 넣을 순 없을까? 리스트"
      ],
      "metadata": {
        "id": "q9zCtp_BGSXw"
      }
    },
    {
      "cell_type": "code",
      "source": [
        "a = [1,2,3] # list\n",
        "print(a)"
      ],
      "metadata": {
        "colab": {
          "base_uri": "https://localhost:8080/"
        },
        "id": "bNvmrgzhGY1b",
        "outputId": "9a248045-291c-4e0b-9e49-ea2854e90216"
      },
      "execution_count": null,
      "outputs": [
        {
          "output_type": "stream",
          "name": "stdout",
          "text": [
            "[1, 2, 3]\n"
          ]
        }
      ]
    },
    {
      "cell_type": "code",
      "source": [
        "a = [1,2,3]\n",
        "b = [4,5,6]\n",
        "a + b # 더하는 게 아니고 쌓는다"
      ],
      "metadata": {
        "colab": {
          "base_uri": "https://localhost:8080/"
        },
        "id": "56nLpdm2GdvR",
        "outputId": "eae9d375-f033-4aa3-b36b-d7920989b6a6"
      },
      "execution_count": null,
      "outputs": [
        {
          "output_type": "execute_result",
          "data": {
            "text/plain": [
              "[1, 2, 3, 4, 5, 6]"
            ]
          },
          "metadata": {},
          "execution_count": 76
        }
      ]
    },
    {
      "cell_type": "code",
      "source": [
        "a = [1, \"b\", 5] # 뭐든 들어간다\n",
        "print(a)"
      ],
      "metadata": {
        "colab": {
          "base_uri": "https://localhost:8080/"
        },
        "id": "riV9yknoGiz8",
        "outputId": "9b6714c4-65cc-4bdc-93d9-a53a9b5feb4d"
      },
      "execution_count": null,
      "outputs": [
        {
          "output_type": "stream",
          "name": "stdout",
          "text": [
            "[1, 'b', 5]\n"
          ]
        }
      ]
    },
    {
      "cell_type": "code",
      "source": [
        "c = []\n",
        "c.append(1)\n",
        "c.append(\"hehe\")\n",
        "c.append(\"c\")\n",
        "print(c)"
      ],
      "metadata": {
        "colab": {
          "base_uri": "https://localhost:8080/"
        },
        "id": "-FVE1Cl8GuWh",
        "outputId": "18cca597-e410-4348-b6ec-c7c314126454"
      },
      "execution_count": null,
      "outputs": [
        {
          "output_type": "stream",
          "name": "stdout",
          "text": [
            "[1, 'hehe', 'c']\n"
          ]
        }
      ]
    },
    {
      "cell_type": "code",
      "source": [
        "a = []\n",
        "a = a+[1]\n",
        "a += [\"haha\"]\n",
        "print(a)"
      ],
      "metadata": {
        "colab": {
          "base_uri": "https://localhost:8080/"
        },
        "id": "axi8QY3GG6d2",
        "outputId": "70fe95aa-6b17-4226-9a37-3b09c83e41cd"
      },
      "execution_count": null,
      "outputs": [
        {
          "output_type": "stream",
          "name": "stdout",
          "text": [
            "[1, 'haha']\n"
          ]
        }
      ]
    },
    {
      "cell_type": "markdown",
      "source": [
        "## range는 반복문의 친구"
      ],
      "metadata": {
        "id": "Xh5PKQ0uHyMm"
      }
    },
    {
      "cell_type": "code",
      "source": [
        "range(10)\n",
        "list(range(10)) # range를 list로 바꿔줌"
      ],
      "metadata": {
        "colab": {
          "base_uri": "https://localhost:8080/"
        },
        "id": "AyRnADt7H1TQ",
        "outputId": "3d0811ae-72ba-4127-ba47-23fd5a695817"
      },
      "execution_count": null,
      "outputs": [
        {
          "output_type": "execute_result",
          "data": {
            "text/plain": [
              "[0, 1, 2, 3, 4, 5, 6, 7, 8, 9]"
            ]
          },
          "metadata": {},
          "execution_count": 83
        }
      ]
    },
    {
      "cell_type": "code",
      "source": [
        "b=list(range(1,11)) # 1 부터 시작 11 미만 까지 (10개)\n",
        "print(b)\n",
        "c=list(range(1,11,2)) # 1 부터 시작 11 미만 까지 2 간격 (무조건 끝에가 빠지는 것은 아님)\n",
        "print(c)\n",
        "list(range(10,0,-1)) # 10 부터 시작. 그리고 0 초과까지\n",
        "print(list(range(10,0,-1)))"
      ],
      "metadata": {
        "colab": {
          "base_uri": "https://localhost:8080/"
        },
        "id": "2gW67xDoH5V7",
        "outputId": "e30f5578-4b5e-4c19-86d4-5a138a8aac12"
      },
      "execution_count": null,
      "outputs": [
        {
          "output_type": "stream",
          "name": "stdout",
          "text": [
            "[1, 2, 3, 4, 5, 6, 7, 8, 9, 10]\n",
            "[1, 3, 5, 7, 9]\n",
            "[10, 9, 8, 7, 6, 5, 4, 3, 2, 1]\n"
          ]
        }
      ]
    },
    {
      "cell_type": "markdown",
      "source": [
        "## 튜플이라는 것도 있어요"
      ],
      "metadata": {
        "id": "q24UZiA5do0b"
      }
    },
    {
      "cell_type": "code",
      "source": [
        "a = (1,\"h\",3)\n",
        "b = [1,2,3]\n",
        "print(type(a))\n",
        "print(type(b))"
      ],
      "metadata": {
        "colab": {
          "base_uri": "https://localhost:8080/"
        },
        "id": "f_rGIaebIJno",
        "outputId": "c7f4156d-ca93-4f2a-8b3a-fae03bbaf613"
      },
      "execution_count": null,
      "outputs": [
        {
          "output_type": "stream",
          "name": "stdout",
          "text": [
            "<class 'tuple'>\n",
            "<class 'list'>\n"
          ]
        }
      ]
    },
    {
      "cell_type": "code",
      "source": [
        "b = tuple(range(10))\n",
        "print(b)"
      ],
      "metadata": {
        "colab": {
          "base_uri": "https://localhost:8080/"
        },
        "id": "FS34vfNXdw-F",
        "outputId": "9a3c051b-174d-4175-b4bf-a8b749bcdd1b"
      },
      "execution_count": null,
      "outputs": [
        {
          "output_type": "stream",
          "name": "stdout",
          "text": [
            "(0, 1, 2, 3, 4, 5, 6, 7, 8, 9)\n"
          ]
        }
      ]
    },
    {
      "cell_type": "code",
      "source": [
        "a = list(range(10))\n",
        "b = tuple(range(10))\n",
        "c = tuple(a)\n",
        "d = list(b)\n",
        "print(a)\n",
        "print(b)"
      ],
      "metadata": {
        "colab": {
          "base_uri": "https://localhost:8080/"
        },
        "id": "6pGPCVOvd4nU",
        "outputId": "95d0df4d-2a84-444c-c9fb-b69b5d6b54ad"
      },
      "execution_count": null,
      "outputs": [
        {
          "output_type": "stream",
          "name": "stdout",
          "text": [
            "[0, 1, 2, 3, 4, 5, 6, 7, 8, 9]\n",
            "(0, 1, 2, 3, 4, 5, 6, 7, 8, 9)\n"
          ]
        }
      ]
    },
    {
      "cell_type": "markdown",
      "source": [
        "# in은 있냐?를 물어봄"
      ],
      "metadata": {
        "id": "p_7yO6NMeS2f"
      }
    },
    {
      "cell_type": "code",
      "source": [
        "a = list(range(10))\n",
        "b = tuple(range(10))\n",
        "c = range(10)\n",
        "print(1 in a) # a 에 1이 있냐?\n",
        "print(15 in a)\n",
        "print(1 not in b) # b 에 1이 있냐?\n",
        "print(15 in b)\n",
        "print(5 in c)"
      ],
      "metadata": {
        "colab": {
          "base_uri": "https://localhost:8080/"
        },
        "id": "LLJ8heqweB2w",
        "outputId": "9864023e-9c58-413d-f476-790c82c486f5"
      },
      "execution_count": null,
      "outputs": [
        {
          "output_type": "stream",
          "name": "stdout",
          "text": [
            "True\n",
            "False\n",
            "False\n",
            "False\n",
            "True\n"
          ]
        }
      ]
    },
    {
      "cell_type": "code",
      "source": [
        "s = \"hello\"\n",
        "print(\"h\" in s)\n",
        "print(\"H\" in a)"
      ],
      "metadata": {
        "colab": {
          "base_uri": "https://localhost:8080/"
        },
        "id": "1226OFIJemuw",
        "outputId": "579065c6-65f9-4470-e6eb-057446f6f5bb"
      },
      "execution_count": null,
      "outputs": [
        {
          "output_type": "stream",
          "name": "stdout",
          "text": [
            "True\n",
            "False\n"
          ]
        }
      ]
    },
    {
      "cell_type": "markdown",
      "source": [
        "# 리스트의 기본 연산과 인덱싱"
      ],
      "metadata": {
        "id": "iDAtCO54fmWF"
      }
    },
    {
      "cell_type": "code",
      "source": [
        "a = [1,2,3]\n",
        "b = a+a\n",
        "c = a*3\n",
        "d = a*(12//4)\n",
        "e = a*int(12/4)\n",
        "\n",
        "print(a)\n",
        "print(b)\n",
        "print(c)\n",
        "print(d)\n",
        "print(e)"
      ],
      "metadata": {
        "colab": {
          "base_uri": "https://localhost:8080/"
        },
        "id": "PjcT5ShSflei",
        "outputId": "73b5076c-adc3-4d06-8d26-2fac52ebd2c0"
      },
      "execution_count": null,
      "outputs": [
        {
          "output_type": "stream",
          "name": "stdout",
          "text": [
            "[1, 2, 3]\n",
            "[1, 2, 3, 1, 2, 3]\n",
            "[1, 2, 3, 1, 2, 3, 1, 2, 3]\n",
            "[1, 2, 3, 1, 2, 3, 1, 2, 3]\n",
            "[1, 2, 3, 1, 2, 3, 1, 2, 3]\n"
          ]
        }
      ]
    },
    {
      "cell_type": "code",
      "source": [
        "a=[1,2,3]\n",
        "print(len(a)) # len은 length다"
      ],
      "metadata": {
        "colab": {
          "base_uri": "https://localhost:8080/"
        },
        "id": "_YZcmjtvfxAT",
        "outputId": "eaf88a94-46a1-4ff9-e5b9-3ee54a3eb7eb"
      },
      "execution_count": null,
      "outputs": [
        {
          "output_type": "stream",
          "name": "stdout",
          "text": [
            "3\n"
          ]
        }
      ]
    },
    {
      "cell_type": "code",
      "source": [
        "s = \"hello\"\n",
        "s2 = [\"hello\"]\n",
        "print(s)\n",
        "print(len(s)) # len 안에 문자열이 들어오면 문자의 개수를 알려주고\n",
        "# len() 안에 리스트가 들어오면 리스트에 들어있는 항목의 개수를 알려준다\n",
        "print(s2)\n",
        "print(len(s2)) # 왜 하나일까? 리스트의 길이를 알려주는 거라서..."
      ],
      "metadata": {
        "colab": {
          "base_uri": "https://localhost:8080/"
        },
        "id": "1JZGEN2ggGMJ",
        "outputId": "4cd183e8-b464-4b98-f876-3723573ec43e"
      },
      "execution_count": null,
      "outputs": [
        {
          "output_type": "stream",
          "name": "stdout",
          "text": [
            "hello\n",
            "5\n",
            "['hello']\n",
            "1\n"
          ]
        }
      ]
    },
    {
      "cell_type": "code",
      "source": [
        "a=[1,2,3]\n",
        "print(a[0]) # a[i]: i 번째의 값을 가리킴. 이런 것을 indexing이라고 함\n",
        "list(range(0,10))\n",
        "print(a[0], a[1], a[2])\n",
        "print(a[-1]) # -1 은 마지막 것을 가리킨다.\n",
        "print(a[-1], a[-2], a[-3])"
      ],
      "metadata": {
        "colab": {
          "base_uri": "https://localhost:8080/"
        },
        "id": "IOxYnkRugN3a",
        "outputId": "a62ea963-0797-43d5-cbba-c61808be283b"
      },
      "execution_count": null,
      "outputs": [
        {
          "output_type": "stream",
          "name": "stdout",
          "text": [
            "1\n",
            "1 2 3\n",
            "3\n",
            "3 2 1\n"
          ]
        }
      ]
    },
    {
      "cell_type": "code",
      "source": [
        "r = range(0,10,2) # range로 인뎅싱 됨\n",
        "print(r[0], r[1], r[2])"
      ],
      "metadata": {
        "colab": {
          "base_uri": "https://localhost:8080/"
        },
        "id": "roSA0mLxkF61",
        "outputId": "2068b2c2-d15f-4a6f-b58e-033733a88454"
      },
      "execution_count": null,
      "outputs": [
        {
          "output_type": "stream",
          "name": "stdout",
          "text": [
            "0 2 4\n"
          ]
        }
      ]
    },
    {
      "cell_type": "code",
      "source": [
        "a=[1,2,3]\n",
        "a[0]=3\n",
        "a[1]=5\n",
        "a[2]=10\n",
        "print(a)"
      ],
      "metadata": {
        "colab": {
          "base_uri": "https://localhost:8080/"
        },
        "id": "YANu1e0hkVls",
        "outputId": "93dc522c-f2ff-418e-a0a8-03c9aa6e1b03"
      },
      "execution_count": null,
      "outputs": [
        {
          "output_type": "stream",
          "name": "stdout",
          "text": [
            "[3, 5, 10]\n"
          ]
        }
      ]
    },
    {
      "cell_type": "code",
      "source": [
        "a=(1,2,3)\n",
        "a[0]=1 # imutable 하기때문에 안된다!"
      ],
      "metadata": {
        "colab": {
          "base_uri": "https://localhost:8080/",
          "height": 162
        },
        "id": "XJ12k-K8kehz",
        "outputId": "7ed53958-ac4f-4d8c-8b67-233f5790bcc7"
      },
      "execution_count": null,
      "outputs": [
        {
          "output_type": "error",
          "ename": "TypeError",
          "evalue": "'tuple' object does not support item assignment",
          "traceback": [
            "\u001b[0;31m---------------------------------------------------------------------------\u001b[0m",
            "\u001b[0;31mTypeError\u001b[0m                                 Traceback (most recent call last)",
            "\u001b[0;32m<ipython-input-26-648d38c0b1bd>\u001b[0m in \u001b[0;36m<cell line: 2>\u001b[0;34m()\u001b[0m\n\u001b[1;32m      1\u001b[0m \u001b[0ma\u001b[0m\u001b[0;34m=\u001b[0m\u001b[0;34m(\u001b[0m\u001b[0;36m1\u001b[0m\u001b[0;34m,\u001b[0m\u001b[0;36m2\u001b[0m\u001b[0;34m,\u001b[0m\u001b[0;36m3\u001b[0m\u001b[0;34m)\u001b[0m\u001b[0;34m\u001b[0m\u001b[0;34m\u001b[0m\u001b[0m\n\u001b[0;32m----> 2\u001b[0;31m \u001b[0ma\u001b[0m\u001b[0;34m[\u001b[0m\u001b[0;36m0\u001b[0m\u001b[0;34m]\u001b[0m\u001b[0;34m=\u001b[0m\u001b[0;36m1\u001b[0m \u001b[0;31m# imutable 하기때문에 안된다!\u001b[0m\u001b[0;34m\u001b[0m\u001b[0;34m\u001b[0m\u001b[0m\n\u001b[0m",
            "\u001b[0;31mTypeError\u001b[0m: 'tuple' object does not support item assignment"
          ]
        }
      ]
    },
    {
      "cell_type": "code",
      "source": [
        "a=[1,2,3]\n",
        "del a[1]\n",
        "print(a)"
      ],
      "metadata": {
        "colab": {
          "base_uri": "https://localhost:8080/"
        },
        "id": "mxUFwfxckwnz",
        "outputId": "363dbbb8-d248-4504-ac9f-9bf0fdc4b722"
      },
      "execution_count": null,
      "outputs": [
        {
          "output_type": "stream",
          "name": "stdout",
          "text": [
            "[1, 3]\n"
          ]
        }
      ]
    },
    {
      "cell_type": "markdown",
      "source": [
        "# 굉장히 많이 쓰이는 슬라이스!"
      ],
      "metadata": {
        "id": "VbQWUZW8k9KP"
      }
    },
    {
      "cell_type": "code",
      "source": [
        "a=[1,2,3,4,5,6,7,8,9,10]\n",
        "b=a[0:3] # 0 부터 3 미만번째\n",
        "print(b)"
      ],
      "metadata": {
        "colab": {
          "base_uri": "https://localhost:8080/"
        },
        "id": "EoLhPPlzk_7A",
        "outputId": "303bfdbd-86c4-4075-cceb-863a77832498"
      },
      "execution_count": null,
      "outputs": [
        {
          "output_type": "stream",
          "name": "stdout",
          "text": [
            "[1, 2, 3]\n"
          ]
        }
      ]
    },
    {
      "cell_type": "code",
      "source": [
        "a=[1,2,3,4,5,6,7,8,9,10]\n",
        "print(a[1:3])\n",
        "print(a[3:-1])\n",
        "print(a[1:7:2]) # 8은 비포함\n",
        "print(a[:5]) # 첫 번째 자리를 비우면 처음 것부터\n",
        "print(a[5:]) # 두 번째 자리를 비우면 마지막까지 (마지막도 포함)\n",
        "print(a[:]) # 처음부터 끝까지\n",
        "print(a[:7:2]) # 처음부터 7까지 2간격으로\n",
        "print(a[7::2])\n",
        "print(a[::2])\n",
        "print(a[::]) # a[:]과 동일 처음부터 끝까지"
      ],
      "metadata": {
        "colab": {
          "base_uri": "https://localhost:8080/"
        },
        "id": "UGUofz-ZliYe",
        "outputId": "0d449e98-9087-4b57-c390-9f09c956e6d6"
      },
      "execution_count": null,
      "outputs": [
        {
          "output_type": "stream",
          "name": "stdout",
          "text": [
            "[2, 3]\n",
            "[4, 5, 6, 7, 8, 9]\n",
            "[2, 4, 6]\n",
            "[1, 2, 3, 4, 5]\n",
            "[6, 7, 8, 9, 10]\n",
            "[1, 2, 3, 4, 5, 6, 7, 8, 9, 10]\n",
            "[1, 3, 5, 7]\n"
          ]
        }
      ]
    },
    {
      "cell_type": "code",
      "source": [
        "a=[1,2,3,4,5]\n",
        "del a[1:3]\n",
        "print(a)"
      ],
      "metadata": {
        "colab": {
          "base_uri": "https://localhost:8080/"
        },
        "id": "QvcaDiYIjmsD",
        "outputId": "4505e598-e71c-4844-c0e7-e18aa02b8a8c"
      },
      "execution_count": null,
      "outputs": [
        {
          "output_type": "stream",
          "name": "stdout",
          "text": [
            "[1, 4, 5]\n"
          ]
        }
      ]
    },
    {
      "cell_type": "markdown",
      "source": [
        "## Dictionary"
      ],
      "metadata": {
        "id": "OUJRt47djxx7"
      }
    },
    {
      "cell_type": "code",
      "source": [
        "dic1 = {\"a\":1, \"b\":2, 100:\"5\"} # colon(:)을 중심으로 왼쪽과 오른쪽 보기, 중괄호다.\n",
        "# 키(key):값(value) 이고 숫자 문자 뭐든 키, 값이 될 수 있다.\n",
        "# 키에는 수정할 수 없는 튜플은 되고 리스트는 안됨\n",
        "# 값에는 튜플도 되고 리스트도 됨\n",
        "print(dic1)\n",
        "print(dic1[\"a\"], dic1[100]) # key를 가지고 indexing함\n",
        "print(len(dic1)) # 네 쌍이라서 4\n",
        "print(dic1.keys()) # key를 보여달라\n",
        "print(dic1.values()) # value 보여달라\n",
        "print(dic1.items()) # 쌍을 보여달라"
      ],
      "metadata": {
        "id": "e1gEW4-UmTFU",
        "colab": {
          "base_uri": "https://localhost:8080/"
        },
        "outputId": "0ec7dda2-1d54-4024-a030-f2de49467e6d"
      },
      "execution_count": null,
      "outputs": [
        {
          "output_type": "stream",
          "name": "stdout",
          "text": [
            "{'a': 1, 'b': 2, 100: '5'}\n",
            "1 5\n",
            "3\n",
            "dict_keys(['a', 'b', 100])\n",
            "dict_values([1, 2, '5'])\n",
            "dict_items([('a', 1), ('b', 2), (100, '5')])\n"
          ]
        }
      ]
    },
    {
      "cell_type": "code",
      "source": [
        "list(zip([\"a\",\"b\",100],[1,2,\"5\"]))\n",
        "a = dict(zip([\"a\",\"b\",100], [1,2,\"5\"]))\n",
        "print(a)"
      ],
      "metadata": {
        "colab": {
          "base_uri": "https://localhost:8080/"
        },
        "id": "t4vRCkxtkgqa",
        "outputId": "628778ed-6fad-414d-ddc1-18018f3b647e"
      },
      "execution_count": null,
      "outputs": [
        {
          "output_type": "stream",
          "name": "stdout",
          "text": [
            "{'a': 1, 'b': 2, 100: '5'}\n"
          ]
        }
      ]
    },
    {
      "cell_type": "code",
      "source": [
        "dic1 = {\"a\":1, \"b\":2, \"c\":3, \"d\":4}\n",
        "dic1[\"a\"] = 100; dic1[\"b\"] = 200; dic1[\"c\"] = 300; dic1[\"d\"] = 400\n",
        "print(dic1)\n",
        "dic1[\"e\"] = \"new key\" # new key\n",
        "print(dic1)\n",
        "print(\"a\" in dic1) # \"a\"라는 키가 있나\n",
        "print(100 in dic1) # 100 라는 키가 있나"
      ],
      "metadata": {
        "id": "d3om9M6qlUza",
        "colab": {
          "base_uri": "https://localhost:8080/"
        },
        "outputId": "d692dc21-cf54-4de1-eb07-a109177c91b6"
      },
      "execution_count": null,
      "outputs": [
        {
          "output_type": "stream",
          "name": "stdout",
          "text": [
            "{'a': 100, 'b': 200, 'c': 300, 'd': 400}\n",
            "{'a': 100, 'b': 200, 'c': 300, 'd': 400, 'e': 'new key'}\n",
            "True\n",
            "False\n"
          ]
        }
      ]
    },
    {
      "cell_type": "markdown",
      "source": [
        "## 조건문"
      ],
      "metadata": {
        "id": "TLw4IAF1mDzm"
      }
    },
    {
      "cell_type": "code",
      "source": [
        "a = 5\n",
        "print(a>3)\n",
        "print(a<3)\n",
        "print(a==5)\n",
        "\n",
        "if a>3:\n",
        "    print(\"3보다 큽니다\")\n",
        "\n",
        "if a<3:\n",
        "    print(\"3보다 작습니다\") # if (false) 면 error가 아니라 실행을 안함\n",
        "\n",
        "if a==5:\n",
        "    print(\"5와 같다\")\n",
        "\n",
        "# if a=5:\n",
        "#     print(\"5를 a에 넣는다면?\")"
      ],
      "metadata": {
        "colab": {
          "base_uri": "https://localhost:8080/"
        },
        "id": "EDuArmShmA6u",
        "outputId": "64504bc4-7e9c-483d-c2a9-f1782a1190f2"
      },
      "execution_count": null,
      "outputs": [
        {
          "output_type": "stream",
          "name": "stdout",
          "text": [
            "True\n",
            "False\n",
            "True\n",
            "3보다 큽니다\n",
            "5와 같다\n"
          ]
        }
      ]
    },
    {
      "cell_type": "code",
      "source": [
        "a = 5\n",
        "if a==5:\n",
        "    print(\"5와\")\n",
        "    print(\"같습니다\")\n",
        "\n",
        "# if a==5:\n",
        "#     print(\"5와\")\n",
        "#         print(\"같습니다\") #오류:\n",
        "\n",
        "if a==5:\n",
        "    print(\"5와 같습니다\")\n",
        "print(\"if문 밖으로 나옴. 여기서부터 계속 실행된다\")"
      ],
      "metadata": {
        "colab": {
          "base_uri": "https://localhost:8080/"
        },
        "id": "t1_UHZaAnDw2",
        "outputId": "4fcbade9-ecbf-4d80-86ab-a397be30efb8"
      },
      "execution_count": null,
      "outputs": [
        {
          "output_type": "stream",
          "name": "stdout",
          "text": [
            "5와\n",
            "같습니다\n",
            "5와 같습니다\n",
            "if문 밖으로 나옴. 여기서부터 계속 실행된다\n"
          ]
        }
      ]
    },
    {
      "cell_type": "code",
      "source": [
        "x=15\n",
        "if x>10:\n",
        "    print(\"10보다 크다\")\n",
        "    if x == 15:\n",
        "        print(\"15입니다\")\n",
        "    if x==20:\n",
        "        print(\"20입니다\")\n",
        "    a=1\n",
        "print(a)"
      ],
      "metadata": {
        "colab": {
          "base_uri": "https://localhost:8080/"
        },
        "id": "UMAHuHHonYrH",
        "outputId": "7c9f9b6b-ab3e-49cb-8596-6d48bd11234b"
      },
      "execution_count": null,
      "outputs": [
        {
          "output_type": "stream",
          "name": "stdout",
          "text": [
            "10보다 크다\n",
            "15입니다\n",
            "1\n"
          ]
        }
      ]
    },
    {
      "cell_type": "code",
      "source": [
        "x = 15\n",
        "if x<10: # 애초에 여길 통과 못해서 이 안에 if x==15:가 있더라도 실행되지 않음!\n",
        "    print(\"10보다 크다.\")\n",
        "    if x==15:\n",
        "        print(\"15입니다.\")\n",
        "    if x==20:\n",
        "        print(\"20입니다.\")"
      ],
      "metadata": {
        "id": "ZCTxYWo1nzy7"
      },
      "execution_count": null,
      "outputs": []
    },
    {
      "cell_type": "code",
      "source": [
        "x=15\n",
        "if x<10:\n",
        "    print(\"x는 10보다 작습니다(10 미만)\")\n",
        "else:\n",
        "    print(\"그 이외(10 이상)\")\n",
        "    print(\"esle도 들여쓰기 영역 모두 실행\")"
      ],
      "metadata": {
        "colab": {
          "base_uri": "https://localhost:8080/"
        },
        "id": "9lQSXhcxoJZ3",
        "outputId": "c6b9b77d-a6be-46dd-e1be-83df9a594446"
      },
      "execution_count": null,
      "outputs": [
        {
          "output_type": "stream",
          "name": "stdout",
          "text": [
            "그 이외(10 이상)\n",
            "esle도 들여쓰기 영역 모두 실행\n"
          ]
        }
      ]
    },
    {
      "cell_type": "code",
      "source": [
        "if True:\n",
        "    print(\"여기 들어온다\")\n",
        "else:\n",
        "    print(\"여기 안들어온다\")\n",
        "\n",
        "if False:\n",
        "    print(\"여긴 안들어와야\")\n",
        "else:\n",
        "    print(\"이번엔 여기로 들어와야 함\")"
      ],
      "metadata": {
        "colab": {
          "base_uri": "https://localhost:8080/"
        },
        "id": "1c-vqem6opUX",
        "outputId": "1a1e08f8-1a6b-45cc-c430-25dd1984118a"
      },
      "execution_count": null,
      "outputs": [
        {
          "output_type": "stream",
          "name": "stdout",
          "text": [
            "여기 들어온다\n",
            "이번엔 여기로 들어와야 함\n"
          ]
        }
      ]
    },
    {
      "cell_type": "code",
      "source": [
        "if 1: # bool (-1)이 True\n",
        "    print(\"여기 들어와야 함\")\n",
        "else:\n",
        "    print(\"여긴 안들어와야 함\")\n",
        "\n",
        "if 0:\n",
        "    print(\"여기 안들어옴\")\n",
        "else:\n",
        "    print"
      ],
      "metadata": {
        "colab": {
          "base_uri": "https://localhost:8080/"
        },
        "id": "STxftEXBo1xs",
        "outputId": "ce119003-46dd-408e-c935-0ab633c00e63"
      },
      "execution_count": null,
      "outputs": [
        {
          "output_type": "stream",
          "name": "stdout",
          "text": [
            "여기 들어와야 함\n",
            "여기 들어옴\n"
          ]
        }
      ]
    },
    {
      "cell_type": "code",
      "source": [
        "if \"False\":\n",
        "    print(\"글자 있으면 True 취급\")\n",
        "else:\n",
        "    print(\"여긴 안들어와야 함\")\n",
        "\n",
        "if \"\":\n",
        "    print(\"빈 문자는 False 취급\")\n",
        "else:\n",
        "    print(\"비었으면 일로 온다\")"
      ],
      "metadata": {
        "colab": {
          "base_uri": "https://localhost:8080/"
        },
        "id": "0uMckjKzpAZB",
        "outputId": "4c3841db-d1ca-4877-adfd-3ee26b14c3bf"
      },
      "execution_count": null,
      "outputs": [
        {
          "output_type": "stream",
          "name": "stdout",
          "text": [
            "글자 있으면 True 취급\n",
            "비었으면 일로 온다\n"
          ]
        }
      ]
    },
    {
      "cell_type": "code",
      "source": [
        "print(bool(1))\n",
        "print(bool(0))\n",
        "print(bool(\"Hello\"))\n",
        "print(bool(\"\"))"
      ],
      "metadata": {
        "colab": {
          "base_uri": "https://localhost:8080/"
        },
        "id": "e2ZsQBPnqB52",
        "outputId": "5f184b80-ad58-43f2-cd85-8540e63ee0a6"
      },
      "execution_count": null,
      "outputs": [
        {
          "output_type": "stream",
          "name": "stdout",
          "text": [
            "True\n",
            "False\n",
            "True\n",
            "False\n"
          ]
        }
      ]
    },
    {
      "cell_type": "code",
      "source": [
        "a = 1\n",
        "b = 2\n",
        "if a>0 and b>0:\n",
        "    print(\"둘다 맞아야만 들어옴\")\n",
        "else:\n",
        "    print(\"둘 중 하나라도 안 맞으면 여기로\")"
      ],
      "metadata": {
        "colab": {
          "base_uri": "https://localhost:8080/"
        },
        "id": "MtmQNhgWqNkh",
        "outputId": "bdbdb514-7db6-40d3-d207-986ec6d78cca"
      },
      "execution_count": null,
      "outputs": [
        {
          "output_type": "stream",
          "name": "stdout",
          "text": [
            "둘다 맞아야만 들어옴\n"
          ]
        }
      ]
    },
    {
      "cell_type": "code",
      "source": [
        "a = 1\n",
        "b = -1\n",
        "if a>0 and b>0:\n",
        "    print(\"둘다 맞아야만 들어옴\")\n",
        "else:\n",
        "    print(\"둘 중 하나라도 안 맞으면 여기로\")"
      ],
      "metadata": {
        "colab": {
          "base_uri": "https://localhost:8080/"
        },
        "id": "9VaQSQfwqk-8",
        "outputId": "9d05fae8-71e0-4636-da9d-a0949234d3eb"
      },
      "execution_count": null,
      "outputs": [
        {
          "output_type": "stream",
          "name": "stdout",
          "text": [
            "둘 중 하나라도 안 맞으면 여기로\n"
          ]
        }
      ]
    },
    {
      "cell_type": "code",
      "source": [
        "a = 1\n",
        "b = -1\n",
        "if a>0 or b>0:\n",
        "    print(\"둘 중에 하나라도 맞으면 여기로\")\n",
        "else:\n",
        "    print(\"둘다 아니면 여기로\")"
      ],
      "metadata": {
        "colab": {
          "base_uri": "https://localhost:8080/"
        },
        "id": "bDPTSPSQqoKx",
        "outputId": "e80d6a8a-d1d3-439e-d38f-935620178df4"
      },
      "execution_count": null,
      "outputs": [
        {
          "output_type": "stream",
          "name": "stdout",
          "text": [
            "둘 중에 하나라도 맞으면 여기로\n"
          ]
        }
      ]
    },
    {
      "cell_type": "code",
      "source": [
        "a = -1\n",
        "b = -1\n",
        "if a>0 or b>0:\n",
        "    print(\"둘 중에 하나라도 맞으면 여기로\")\n",
        "else:\n",
        "    print(\"둘다 아니면 여기로\")"
      ],
      "metadata": {
        "colab": {
          "base_uri": "https://localhost:8080/"
        },
        "id": "dB0Cbx7eqyHk",
        "outputId": "b1803066-555a-4db2-a5f8-75d7df0eba36"
      },
      "execution_count": null,
      "outputs": [
        {
          "output_type": "stream",
          "name": "stdout",
          "text": [
            "둘다 아니면 여기로\n"
          ]
        }
      ]
    },
    {
      "cell_type": "code",
      "source": [
        "x = 10\n",
        "if 0<x<20:\n",
        "    print(\"부등호 연달아 써도 된다\")"
      ],
      "metadata": {
        "colab": {
          "base_uri": "https://localhost:8080/"
        },
        "id": "Br6N-lBaq1ED",
        "outputId": "ea7a5638-9396-4134-b255-87c91db21449"
      },
      "execution_count": null,
      "outputs": [
        {
          "output_type": "stream",
          "name": "stdout",
          "text": [
            "부등호 연달아 써도 된다\n"
          ]
        }
      ]
    },
    {
      "cell_type": "code",
      "source": [
        "x = 25\n",
        "if 0 < x < 10:\n",
        "    print(\"10보다 작은가\")\n",
        "elif x < 50:\n",
        "    print(\"아니면 50보다 작은가\")"
      ],
      "metadata": {
        "colab": {
          "base_uri": "https://localhost:8080/"
        },
        "id": "Wx-B7sDRq-TI",
        "outputId": "217372f7-b045-4550-eea1-13aeb368c933"
      },
      "execution_count": null,
      "outputs": [
        {
          "output_type": "stream",
          "name": "stdout",
          "text": [
            "아니면 50보다 작은가\n"
          ]
        }
      ]
    },
    {
      "cell_type": "code",
      "source": [
        "x = 100\n",
        "if 0 < x < 10: # 가장 먼저 본 애를 실행\n",
        "    print(\"10보다 같거나 작은가\")\n",
        "elif x < 100:\n",
        "    print(\"아니면 100보다 작은가\")\n",
        "else:\n",
        "    print(\"10보다 작지도 100보다 작지도 않은가?\")"
      ],
      "metadata": {
        "colab": {
          "base_uri": "https://localhost:8080/"
        },
        "id": "xl1ZC-pSrZ62",
        "outputId": "4208e02a-2ecf-4f56-b3e3-cb1905ea5cdc"
      },
      "execution_count": null,
      "outputs": [
        {
          "output_type": "stream",
          "name": "stdout",
          "text": [
            "10보다 작지도 100보다 작지도 않은가?\n"
          ]
        }
      ]
    },
    {
      "cell_type": "code",
      "source": [
        "x = 15\n",
        "if x>= 10:\n",
        "    print(x)"
      ],
      "metadata": {
        "colab": {
          "base_uri": "https://localhost:8080/"
        },
        "id": "XrQDYlDEEIC1",
        "outputId": "b115e2ce-aa72-4907-dffe-89dcd9f0f234"
      },
      "execution_count": null,
      "outputs": [
        {
          "output_type": "stream",
          "name": "stdout",
          "text": [
            "15\n"
          ]
        }
      ]
    },
    {
      "cell_type": "code",
      "source": [
        "x = 98\n",
        "if x >= 90 :\n",
        "    print(\"A\")\n",
        "elif x >= 80:\n",
        "    print(\"B\")\n",
        "elif x >= 70:\n",
        "    print(\"C\")\n",
        "else:\n",
        "    print(\"D\")"
      ],
      "metadata": {
        "colab": {
          "base_uri": "https://localhost:8080/"
        },
        "id": "1mBcyaWhEMbl",
        "outputId": "15a973eb-5129-4262-ae4c-7dedd151023e"
      },
      "execution_count": null,
      "outputs": [
        {
          "output_type": "stream",
          "name": "stdout",
          "text": [
            "A\n"
          ]
        }
      ]
    },
    {
      "cell_type": "code",
      "source": [
        "x = 85\n",
        "if x >= 90:\n",
        "    pass\n",
        "else:\n",
        "    print(\"end of the program\")"
      ],
      "metadata": {
        "colab": {
          "base_uri": "https://localhost:8080/"
        },
        "id": "YLcDeR3ZEelL",
        "outputId": "3b7486ce-d7c3-42c3-b2f1-468d5e88c132"
      },
      "execution_count": null,
      "outputs": [
        {
          "output_type": "stream",
          "name": "stdout",
          "text": [
            "end of the program\n"
          ]
        }
      ]
    },
    {
      "cell_type": "code",
      "source": [
        "x = 75\n",
        "if x >= 80: result = \"Success\"\n",
        "else: result = \"Fail\""
      ],
      "metadata": {
        "id": "kw4o5ZGVFSmD"
      },
      "execution_count": null,
      "outputs": []
    },
    {
      "cell_type": "code",
      "source": [
        "score = 85\n",
        "result = \"Success\" if score >= 80 else \"Fail\"\n",
        "\n",
        "print(result)"
      ],
      "metadata": {
        "colab": {
          "base_uri": "https://localhost:8080/"
        },
        "id": "RyZjC0OhFevE",
        "outputId": "14f949b4-47f5-4fa3-dde9-7e152edf4033"
      },
      "execution_count": null,
      "outputs": [
        {
          "output_type": "stream",
          "name": "stdout",
          "text": [
            "Success\n"
          ]
        }
      ]
    },
    {
      "cell_type": "code",
      "source": [
        "a = [1,2,3,4,5,5,5]\n",
        "remove_set = {3,5}\n",
        "\n",
        "result = []\n",
        "for i in a :\n",
        "    if i not in remove_set:\n",
        "        result.append(i)\n",
        "\n",
        "print(result)"
      ],
      "metadata": {
        "colab": {
          "base_uri": "https://localhost:8080/"
        },
        "id": "vz9qG0vRF6yj",
        "outputId": "85e9b79b-04ad-4bba-bb7e-96c6eceb7695"
      },
      "execution_count": null,
      "outputs": [
        {
          "output_type": "stream",
          "name": "stdout",
          "text": [
            "[1, 2, 4]\n"
          ]
        }
      ]
    },
    {
      "cell_type": "markdown",
      "source": [
        "# 반복문\n",
        "## While문과 For문"
      ],
      "metadata": {
        "id": "QorrCScYGYgp"
      }
    },
    {
      "cell_type": "code",
      "source": [
        "i = 1\n",
        "result = 0\n",
        "\n",
        "while i <= 9:\n",
        "    result += i\n",
        "    i += 1\n",
        "\n",
        "print(result)"
      ],
      "metadata": {
        "colab": {
          "base_uri": "https://localhost:8080/"
        },
        "id": "gr4NuwYfGYVk",
        "outputId": "419d814e-bd3d-47e8-9cb6-da13031d8e92"
      },
      "execution_count": null,
      "outputs": [
        {
          "output_type": "stream",
          "name": "stdout",
          "text": [
            "45\n"
          ]
        }
      ]
    },
    {
      "cell_type": "code",
      "source": [
        "i = 1\n",
        "result = 0\n",
        "while i <= 9:\n",
        "    if i % 2 == 1:\n",
        "        result += i\n",
        "    i += 1\n",
        "\n",
        "print(result)"
      ],
      "metadata": {
        "colab": {
          "base_uri": "https://localhost:8080/"
        },
        "id": "2YuXMRyhGNkJ",
        "outputId": "9437f74c-4d46-40f3-bbe4-2b277a238a52"
      },
      "execution_count": null,
      "outputs": [
        {
          "output_type": "stream",
          "name": "stdout",
          "text": [
            "25\n"
          ]
        }
      ]
    },
    {
      "cell_type": "code",
      "source": [
        "result = 0\n",
        "\n",
        "# i는 1부터 9까지의 모든 값을 순회\n",
        "for i in range(1,10):\n",
        "    result += i\n",
        "\n",
        "print(result)"
      ],
      "metadata": {
        "colab": {
          "base_uri": "https://localhost:8080/"
        },
        "id": "WpRwR6ceHEQt",
        "outputId": "0b27e580-15f1-4377-a23c-e545cfbe14f3"
      },
      "execution_count": null,
      "outputs": [
        {
          "output_type": "stream",
          "name": "stdout",
          "text": [
            "45\n"
          ]
        }
      ]
    },
    {
      "cell_type": "code",
      "source": [
        "scores = [90, 95, 77, 65, 97]\n",
        "cheating_list = {2,4}\n",
        "\n",
        "for i in range(5):\n",
        "    if i + 1 in cheating_list:\n",
        "        continue\n",
        "    if scores[i] >= 80:\n",
        "        print(i+1, \"번 학생은 합격입니다.\")"
      ],
      "metadata": {
        "colab": {
          "base_uri": "https://localhost:8080/"
        },
        "id": "DOZ6rBJiHgWz",
        "outputId": "13e58575-5434-4ae0-9c45-2b0cb801f690"
      },
      "execution_count": null,
      "outputs": [
        {
          "output_type": "stream",
          "name": "stdout",
          "text": [
            "1 번 학생은 합격입니다.\n",
            "5 번 학생은 합격입니다.\n"
          ]
        }
      ]
    },
    {
      "cell_type": "code",
      "source": [
        "# 구구단 2단부터 9단까지의 모든 결과를 출력하는 소스코드 예시\n",
        "for i in range (2,10):\n",
        "    for j in range (1,10):\n",
        "        print(i, \"X\", j, \"=\", i * j)\n",
        "\n",
        "print()"
      ],
      "metadata": {
        "colab": {
          "base_uri": "https://localhost:8080/"
        },
        "id": "qnjDyGx_H3wY",
        "outputId": "bbf50947-b57e-49fc-b7ff-361c1fad193d"
      },
      "execution_count": null,
      "outputs": [
        {
          "output_type": "stream",
          "name": "stdout",
          "text": [
            "2 X 1 = 2\n",
            "2 X 2 = 4\n",
            "2 X 3 = 6\n",
            "2 X 4 = 8\n",
            "2 X 5 = 10\n",
            "2 X 6 = 12\n",
            "2 X 7 = 14\n",
            "2 X 8 = 16\n",
            "2 X 9 = 18\n",
            "3 X 1 = 3\n",
            "3 X 2 = 6\n",
            "3 X 3 = 9\n",
            "3 X 4 = 12\n",
            "3 X 5 = 15\n",
            "3 X 6 = 18\n",
            "3 X 7 = 21\n",
            "3 X 8 = 24\n",
            "3 X 9 = 27\n",
            "4 X 1 = 4\n",
            "4 X 2 = 8\n",
            "4 X 3 = 12\n",
            "4 X 4 = 16\n",
            "4 X 5 = 20\n",
            "4 X 6 = 24\n",
            "4 X 7 = 28\n",
            "4 X 8 = 32\n",
            "4 X 9 = 36\n",
            "5 X 1 = 5\n",
            "5 X 2 = 10\n",
            "5 X 3 = 15\n",
            "5 X 4 = 20\n",
            "5 X 5 = 25\n",
            "5 X 6 = 30\n",
            "5 X 7 = 35\n",
            "5 X 8 = 40\n",
            "5 X 9 = 45\n",
            "6 X 1 = 6\n",
            "6 X 2 = 12\n",
            "6 X 3 = 18\n",
            "6 X 4 = 24\n",
            "6 X 5 = 30\n",
            "6 X 6 = 36\n",
            "6 X 7 = 42\n",
            "6 X 8 = 48\n",
            "6 X 9 = 54\n",
            "7 X 1 = 7\n",
            "7 X 2 = 14\n",
            "7 X 3 = 21\n",
            "7 X 4 = 28\n",
            "7 X 5 = 35\n",
            "7 X 6 = 42\n",
            "7 X 7 = 49\n",
            "7 X 8 = 56\n",
            "7 X 9 = 63\n",
            "8 X 1 = 8\n",
            "8 X 2 = 16\n",
            "8 X 3 = 24\n",
            "8 X 4 = 32\n",
            "8 X 5 = 40\n",
            "8 X 6 = 48\n",
            "8 X 7 = 56\n",
            "8 X 8 = 64\n",
            "8 X 9 = 72\n",
            "9 X 1 = 9\n",
            "9 X 2 = 18\n",
            "9 X 3 = 27\n",
            "9 X 4 = 36\n",
            "9 X 5 = 45\n",
            "9 X 6 = 54\n",
            "9 X 7 = 63\n",
            "9 X 8 = 72\n",
            "9 X 9 = 81\n",
            "\n"
          ]
        }
      ]
    },
    {
      "cell_type": "markdown",
      "source": [
        "# 함수\n",
        "def 함수명(매개변수):\n",
        "    실행할 소스 코드\n",
        "    return 반환 값"
      ],
      "metadata": {
        "id": "FLduq3UeISZj"
      }
    },
    {
      "cell_type": "code",
      "source": [
        "def add(a,b):\n",
        "    return a + b\n",
        "\n",
        "print(add(3,7))"
      ],
      "metadata": {
        "colab": {
          "base_uri": "https://localhost:8080/"
        },
        "id": "g9ygRYOVIOXn",
        "outputId": "f5ee65d6-5b86-4e70-b448-aa4ba9ce132b"
      },
      "execution_count": null,
      "outputs": [
        {
          "output_type": "stream",
          "name": "stdout",
          "text": [
            "10\n"
          ]
        }
      ]
    },
    {
      "cell_type": "code",
      "source": [
        "def add(a,b):\n",
        "    print('result of the function:', a + b)\n",
        "\n",
        "add(3,7)"
      ],
      "metadata": {
        "colab": {
          "base_uri": "https://localhost:8080/"
        },
        "id": "oT-sJ36FKj9t",
        "outputId": "a68dfb2d-ce87-41a5-da62-4415d858b3e4"
      },
      "execution_count": null,
      "outputs": [
        {
          "output_type": "stream",
          "name": "stdout",
          "text": [
            "result of the function: 10\n"
          ]
        }
      ]
    },
    {
      "cell_type": "code",
      "source": [
        "def add(a,b):\n",
        "    print(\"result:\", a + b)\n",
        "\n",
        "add(b=3, a=7)"
      ],
      "metadata": {
        "colab": {
          "base_uri": "https://localhost:8080/"
        },
        "id": "vCeBekidKs16",
        "outputId": "4e8fca62-747e-45ee-c50a-7e2218ce894b"
      },
      "execution_count": null,
      "outputs": [
        {
          "output_type": "stream",
          "name": "stdout",
          "text": [
            "result: 10\n"
          ]
        }
      ]
    },
    {
      "cell_type": "code",
      "source": [
        "a = 0\n",
        "def func():\n",
        "    global a\n",
        "    a += 1\n",
        "\n",
        "for i in range(10):\n",
        "    func()\n",
        "\n",
        "print(a)"
      ],
      "metadata": {
        "colab": {
          "base_uri": "https://localhost:8080/"
        },
        "id": "vxwQjzIEK3aS",
        "outputId": "3c7149d7-e17b-4342-a6f8-2f3f4c59f783"
      },
      "execution_count": null,
      "outputs": [
        {
          "output_type": "stream",
          "name": "stdout",
          "text": [
            "10\n"
          ]
        }
      ]
    },
    {
      "cell_type": "code",
      "source": [
        "def add(a,b):\n",
        "    return a + b\n",
        "\n",
        "print(add(3,7))\n",
        "\n",
        "print((lambda a,b: a + b)(3,7))"
      ],
      "metadata": {
        "colab": {
          "base_uri": "https://localhost:8080/"
        },
        "id": "H4TAsdr7LBDS",
        "outputId": "48787950-7758-435b-9d24-096b48d92a28"
      },
      "execution_count": null,
      "outputs": [
        {
          "output_type": "stream",
          "name": "stdout",
          "text": [
            "10\n",
            "10\n"
          ]
        }
      ]
    },
    {
      "cell_type": "markdown",
      "source": [
        "# 입출력\n",
        "알고리즘 문제 풀이의 첫 번째 단계는 데이터를 입력받는 것이다. 알고리즘 문제의 경우 적절한 입력이 주어졌을 때, 그 입력을 받아서 적절한 알고리즘을 수행한 뒤의 결과를 출력하는 것을 요구하기 때문이다.\n",
        "\n",
        "# 전형적인 코드\n",
        "데이터의 개수 입력: n = int(input())\n",
        "\n",
        "각 데이터를 공백으로 구분하여 입력: data = list(map(int, input().split()))\n",
        "\n",
        "data.sort(reverse = TRUE)\n",
        "\n",
        "print(data)"
      ],
      "metadata": {
        "id": "rP-UmAU3MNqm"
      }
    },
    {
      "cell_type": "code",
      "source": [
        "# n, m, k를 공백으로 구분하여 입력\n",
        "n, m, k = map(int, input().split())\n",
        "\n",
        "print(n,m,k)"
      ],
      "metadata": {
        "colab": {
          "base_uri": "https://localhost:8080/"
        },
        "id": "MGz-UIr8MK0Q",
        "outputId": "38a15e49-49fb-41e8-c25a-06039eded493"
      },
      "execution_count": null,
      "outputs": [
        {
          "output_type": "stream",
          "name": "stdout",
          "text": [
            "3 5 7\n",
            "3 5 7\n"
          ]
        }
      ]
    },
    {
      "cell_type": "code",
      "source": [
        "# 입력의 개수가 많은 경우 sys 라이브러리에 정의되어 있는 sys.stdin.readline() 함수를 이용한다."
      ],
      "metadata": {
        "id": "AG8DnfIENRUS"
      },
      "execution_count": null,
      "outputs": []
    },
    {
      "cell_type": "code",
      "source": [
        "import sys\n",
        "sys.stdin.readline().rstrip()"
      ],
      "metadata": {
        "colab": {
          "base_uri": "https://localhost:8080/",
          "height": 35
        },
        "id": "CFcT-ZnROTUc",
        "outputId": "57467c81-5188-43f5-dce4-4fee68577cf4"
      },
      "execution_count": null,
      "outputs": [
        {
          "output_type": "execute_result",
          "data": {
            "text/plain": [
              "''"
            ],
            "application/vnd.google.colaboratory.intrinsic+json": {
              "type": "string"
            }
          },
          "metadata": {},
          "execution_count": 39
        }
      ]
    },
    {
      "cell_type": "code",
      "source": [
        "# sys 라이브러리를 사용할 때는 한 줄 입력을 받고 나서 rstrip() 함수를 꼭 호출해야 한다.\n",
        "import sys\n",
        "\n",
        "data = sys.stdin.readline().rstrip()\n",
        "print(data)"
      ],
      "metadata": {
        "colab": {
          "base_uri": "https://localhost:8080/"
        },
        "id": "T5CNxsNLOXtM",
        "outputId": "2969f464-1ff2-4352-94a3-bf71bfbb3431"
      },
      "execution_count": null,
      "outputs": [
        {
          "output_type": "stream",
          "name": "stdout",
          "text": [
            "\n"
          ]
        }
      ]
    },
    {
      "cell_type": "code",
      "source": [
        "# f-string 문법: 문자열 앞에 접두사 \"f\"를 붙임으로써 단순히 중괄호 {}안에 변수를 넣음으로써, 자료형의 변환 없이도 바꾸지 않고도 간단히 문자열과 정수를 함께 넣을 수 있다.\n",
        "answer = 7\n",
        "print(f\"정답은 {answer}입니다.\")"
      ],
      "metadata": {
        "colab": {
          "base_uri": "https://localhost:8080/"
        },
        "id": "NDIltoW9OkoD",
        "outputId": "152b8edf-d32a-442a-913d-49752aca6bb9"
      },
      "execution_count": null,
      "outputs": [
        {
          "output_type": "stream",
          "name": "stdout",
          "text": [
            "정답은 7입니다.\n"
          ]
        }
      ]
    },
    {
      "cell_type": "markdown",
      "source": [
        "# 주요 라이브러리의 문법과 유의점\n",
        "표준 라이브러리: 특정한 프로그래밍 언어에서 자주 사용되는 표준 소스코드를 미리 구현해 높은 라이브러리\n",
        "\n",
        "# 주요 라이브러리 6개\n",
        "1. 내장 함수: print(), input()과 같은 기본 입출력 기능부터 sorted()와 같은 정렬 기능을 포함하고 있는 기본 내장 라이브러리이다. 파이썬 프로그램을 작성할 때 없어서는 안 되는 필수적인 기능을 포함하고 있다.\n",
        "\n",
        "2. itertools: python에서 반복되는 형태의 데이터를 처리하는 기능을 제공하는 library이다. 순열과 조합 라이브러리를 제공한다.\n",
        "\n",
        "3. heapq: 힙(Heap) 기능을 제공하는 library이다. 우선순위 큐 기능을 구현하기 위해 사용한다.\n",
        "\n",
        "4. bisect: 이진 탐색(Binary Search) 기능을 제공하는 library이다.\n",
        "\n",
        "5. collections: 덱(deque), 카운터(Counter) 등의 유용한 자료구조를 포함하고 있는 라이브러리이다.\n",
        "\n",
        "6. math: 필수적인 수학적 기능을 제공하는 library이다. 팩토리얼, 제곱근, 최대공약수 (GCD), 삼각함수 관련 함수부터 파이(pi)와 같은 상수를 포함하고 있다."
      ],
      "metadata": {
        "id": "oAbFkM6rP7WJ"
      }
    },
    {
      "cell_type": "code",
      "source": [
        "# 내장함수: sum()\n",
        "result = sum([1,2,3,4,5])\n",
        "print(result)"
      ],
      "metadata": {
        "colab": {
          "base_uri": "https://localhost:8080/"
        },
        "id": "1XyT3C1ePWKK",
        "outputId": "e012ca75-bc94-4aae-dc30-cd1c0f9353e3"
      },
      "execution_count": null,
      "outputs": [
        {
          "output_type": "stream",
          "name": "stdout",
          "text": [
            "15\n"
          ]
        }
      ]
    },
    {
      "cell_type": "code",
      "source": [
        "# min()\n",
        "result = min([7,3,5,2])\n",
        "print(result)"
      ],
      "metadata": {
        "colab": {
          "base_uri": "https://localhost:8080/"
        },
        "id": "4-xfUEWxRdUA",
        "outputId": "6c48c2b1-9899-4370-e418-7fd2a4ac35e9"
      },
      "execution_count": null,
      "outputs": [
        {
          "output_type": "stream",
          "name": "stdout",
          "text": [
            "2\n"
          ]
        }
      ]
    },
    {
      "cell_type": "code",
      "source": [
        "# max()\n",
        "result = max([7,3,5,2])\n",
        "print(result)"
      ],
      "metadata": {
        "colab": {
          "base_uri": "https://localhost:8080/"
        },
        "id": "pGm3CpXERm1c",
        "outputId": "1c0ebed3-4aab-497e-c87c-7e5a77c02d10"
      },
      "execution_count": null,
      "outputs": [
        {
          "output_type": "stream",
          "name": "stdout",
          "text": [
            "7\n"
          ]
        }
      ]
    },
    {
      "cell_type": "code",
      "source": [
        "# eval() 수학 수식이 문자열 형식으로 들어오면 해당 수식을 계산한 결과를 반환한다.\n",
        "result = eval(\"(3+5)*7\")\n",
        "print(result)"
      ],
      "metadata": {
        "colab": {
          "base_uri": "https://localhost:8080/"
        },
        "id": "qz8gL7ZgRrPd",
        "outputId": "8b26f2d4-5567-4e8d-83f6-6144ad61c758"
      },
      "execution_count": null,
      "outputs": [
        {
          "output_type": "stream",
          "name": "stdout",
          "text": [
            "56\n"
          ]
        }
      ]
    },
    {
      "cell_type": "code",
      "source": [
        "# sorted() iterable 객체가 들어왔을 때, 정렬된 결과를 반환한다.\n",
        "result = sorted([9,1,8,5,4]) # 오름차순으로 정렬\n",
        "print(result)\n",
        "result = sorted([9,1,8,5,4], reverse = True) # 내림차순으로 정렬\n",
        "print(result)"
      ],
      "metadata": {
        "colab": {
          "base_uri": "https://localhost:8080/"
        },
        "id": "kA23_DsRR0wQ",
        "outputId": "7deb119f-69c3-4868-c840-14e6e5724ffa"
      },
      "execution_count": null,
      "outputs": [
        {
          "output_type": "stream",
          "name": "stdout",
          "text": [
            "[1, 4, 5, 8, 9]\n",
            "[9, 8, 5, 4, 1]\n"
          ]
        }
      ]
    },
    {
      "cell_type": "code",
      "source": [
        "result = sorted([(\"홍길동\", 35), (\"이순신\", 75), (\"아무개\", 50)], key = lambda x: x[1], reverse = True)\n",
        "print(result)"
      ],
      "metadata": {
        "colab": {
          "base_uri": "https://localhost:8080/"
        },
        "id": "C-r8eTezSD0d",
        "outputId": "74432beb-d6aa-4921-b1b6-ac27af81bded"
      },
      "execution_count": null,
      "outputs": [
        {
          "output_type": "stream",
          "name": "stdout",
          "text": [
            "[('이순신', 75), ('아무개', 50), ('홍길동', 35)]\n"
          ]
        }
      ]
    },
    {
      "cell_type": "code",
      "source": [
        "data = [9,1,8,5,4]\n",
        "data.sort()\n",
        "print(data)"
      ],
      "metadata": {
        "colab": {
          "base_uri": "https://localhost:8080/"
        },
        "id": "FoyTu4uNSoJQ",
        "outputId": "2322e62f-cc4a-4118-bbf6-f40c3cb83abe"
      },
      "execution_count": null,
      "outputs": [
        {
          "output_type": "stream",
          "name": "stdout",
          "text": [
            "[1, 4, 5, 8, 9]\n"
          ]
        }
      ]
    },
    {
      "cell_type": "code",
      "source": [
        "#itertools 파이썬에서 반복되는 데이터를 처리하는 기능을 포함하고 있는 라이브러리\n",
        "from itertools import permutations # 순열\n",
        "data = ['A','B','C'] # 데이터 준비\n",
        "result = list(permutations(data, 3)) # 모든 순열 구하기\n",
        "print(result)"
      ],
      "metadata": {
        "colab": {
          "base_uri": "https://localhost:8080/"
        },
        "id": "kuzlzTdxS0ri",
        "outputId": "5d14b30b-d5e4-4297-9db5-0c2cf9c6c0f2"
      },
      "execution_count": null,
      "outputs": [
        {
          "output_type": "stream",
          "name": "stdout",
          "text": [
            "[('A', 'B', 'C'), ('A', 'C', 'B'), ('B', 'A', 'C'), ('B', 'C', 'A'), ('C', 'A', 'B'), ('C', 'B', 'A')]\n"
          ]
        }
      ]
    },
    {
      "cell_type": "code",
      "source": [
        "from itertools import combinations # 조합\n",
        "data = ['A', 'B', 'C']\n",
        "result = list(combinations(data, 2)) # 2개를 뽑는 모든 조합 구하기\n",
        "print(result)"
      ],
      "metadata": {
        "colab": {
          "base_uri": "https://localhost:8080/"
        },
        "id": "nud4OrP0TCo7",
        "outputId": "c4de178c-da40-4d71-b367-b701af166ca0"
      },
      "execution_count": null,
      "outputs": [
        {
          "output_type": "stream",
          "name": "stdout",
          "text": [
            "[('A', 'B'), ('A', 'C'), ('B', 'C')]\n"
          ]
        }
      ]
    },
    {
      "cell_type": "code",
      "source": [
        "# product()는 permutations와 같이 리스트와 같은 iterable 객체에서 r개의 데이터를 뽑아 일렬로 나열하는 모든 경우(순열)를 계산한다.\n",
        "from itertools import product\n",
        "data = ['A', 'B', 'C']\n",
        "result = list(product(data, repeat = 2))\n",
        "\n",
        "print(result)"
      ],
      "metadata": {
        "colab": {
          "base_uri": "https://localhost:8080/"
        },
        "id": "cg1I7YVhTfSd",
        "outputId": "ce8c6d44-a167-4aec-c87c-eb3078f67707"
      },
      "execution_count": null,
      "outputs": [
        {
          "output_type": "stream",
          "name": "stdout",
          "text": [
            "[('A', 'A'), ('A', 'B'), ('A', 'C'), ('B', 'A'), ('B', 'B'), ('B', 'C'), ('C', 'A'), ('C', 'B'), ('C', 'C')]\n"
          ]
        }
      ]
    },
    {
      "cell_type": "code",
      "source": [
        "# combinations_with_replacement는 combinations와 같이 리스트와 같은 iterable 객체에서 r개의 데이터를\n",
        "# 뽑아 순서를 고려하지 않고 나열하는 모든 경우(조합)를 계산한다. 다만 원소를 중복해서 뽑느다.\n",
        "from itertools import combinations_with_replacement\n",
        "data = ['A', 'B', 'C']\n",
        "result = list(combinations_with_replacement(data, 2)) # 2개를 뽑는 모든 조합 구하기 (중복 허용)\n",
        "\n",
        "print(result)\n"
      ],
      "metadata": {
        "colab": {
          "base_uri": "https://localhost:8080/"
        },
        "id": "aGPAkvKWUAXu",
        "outputId": "a0415aa8-8988-459d-ac9d-4ad761f4942a"
      },
      "execution_count": null,
      "outputs": [
        {
          "output_type": "stream",
          "name": "stdout",
          "text": [
            "[('A', 'A'), ('A', 'B'), ('A', 'C'), ('B', 'B'), ('B', 'C'), ('C', 'C')]\n"
          ]
        }
      ]
    },
    {
      "cell_type": "code",
      "source": [
        "# heapq 다익스트라 최단 경로 알고리즘을 포함해 다양한 알고리즘에서 우선순위 큐 기능을 구현하고자 할 때 사용된다.\n",
        "import heapq\n",
        "\n",
        "def heapsort(iterable):\n",
        "    h = []\n",
        "    result = []\n",
        "    # 모든 원소를 차례대로 힙에 삽입\n",
        "    for value in iterable:\n",
        "        heapq.heappush(h, value)\n",
        "    # 힙에 사용된 모든 원소를 차럐대로 꺼내어 담기\n",
        "    for i in range(len(h)):\n",
        "        result.append(heapq.heappop(h))\n",
        "    return result\n",
        "\n",
        "result = heapsort([1,3,5,7,9,2,4,6,8,0])\n",
        "print(result)"
      ],
      "metadata": {
        "colab": {
          "base_uri": "https://localhost:8080/"
        },
        "id": "MEFPmmReUXOz",
        "outputId": "7f8a42a4-4526-4d35-fb6f-9efee7ab1290"
      },
      "execution_count": null,
      "outputs": [
        {
          "output_type": "stream",
          "name": "stdout",
          "text": [
            "[0, 1, 2, 3, 4, 5, 6, 7, 8, 9]\n"
          ]
        }
      ]
    },
    {
      "cell_type": "code",
      "source": [
        "import heapq\n",
        "\n",
        "def heapsort(iterable):\n",
        "    h = []\n",
        "    result = []\n",
        "    # 모든 원소를 차례대로 힘에 삽입\n",
        "    for value in iterable:\n",
        "        heapq.heappush(h, -value)\n",
        "    # 힙에 삽입된 모든 원소를 차례대로 꺼내어 담기\n",
        "    for i in range(len(h)):\n",
        "        result.append(-heapq.heappop(h))\n",
        "    return result\n",
        "\n",
        "result = heapsort([1,3,5,7,9,2,4,6,8,0])\n",
        "print(result)"
      ],
      "metadata": {
        "colab": {
          "base_uri": "https://localhost:8080/"
        },
        "id": "BT3kQEMbVWF8",
        "outputId": "55c33415-e84d-4a78-eea2-ce607d8ec126"
      },
      "execution_count": null,
      "outputs": [
        {
          "output_type": "stream",
          "name": "stdout",
          "text": [
            "[9, 8, 7, 6, 5, 4, 3, 2, 1, 0]\n"
          ]
        }
      ]
    },
    {
      "cell_type": "code",
      "source": [
        "# bisect \"정렬된 배열\"에서 특정한 원소를 찾아야 할 때 매우 효과적으로 사용된다.\n",
        "from bisect import bisect_left, bisect_right\n",
        "\n",
        "a = [1,2,4,4,8]\n",
        "x = 4\n",
        "\n",
        "print(bisect_left(a, x))\n",
        "print(bisect_right(a, x))"
      ],
      "metadata": {
        "colab": {
          "base_uri": "https://localhost:8080/"
        },
        "id": "ijQosZl3WU07",
        "outputId": "119f0a79-a6bc-483c-c4c7-76a60cfc2e8a"
      },
      "execution_count": null,
      "outputs": [
        {
          "output_type": "stream",
          "name": "stdout",
          "text": [
            "2\n",
            "4\n"
          ]
        }
      ]
    },
    {
      "cell_type": "code",
      "source": [
        "from bisect import bisect_left, bisect_right\n",
        "\n",
        "# 값이 [left_value, right_value]인 데이터의 개수를 반환하는 함수\n",
        "def count_by_range(a, left_value, right_value):\n",
        "    right_index = bisect_right(a, right_value)\n",
        "    left_index = bisect_left(a, left_value)\n",
        "    return right_index - left_index\n",
        "\n",
        "# 리스트 선언\n",
        "a = [1,2,3,3,3,3,4,4,8,9]\n",
        "\n",
        "# 값이 4인 데이터 개수 출력\n",
        "print(count_by_range(a, 4, 4))\n",
        "\n",
        "# 값이 [-1, 3] 범위에 있는 데이터 개수 출력\n",
        "print(count_by_range(a, -1, 3))"
      ],
      "metadata": {
        "colab": {
          "base_uri": "https://localhost:8080/"
        },
        "id": "IidszSgpW9il",
        "outputId": "ffd1d830-d2a5-4f27-857d-676ac491a567"
      },
      "execution_count": null,
      "outputs": [
        {
          "output_type": "stream",
          "name": "stdout",
          "text": [
            "2\n",
            "6\n"
          ]
        }
      ]
    },
    {
      "cell_type": "code",
      "source": [
        "# collections  - deque와 Counter\n",
        "# deque는 첫 번째 원소를 제거할 때 popleft()를 사용하며, 마지막 원소를 제거할 때 pop()을 사용한다.\n",
        "# 첫 번째 인덱스에 원소 x를 삽입할 때에는 append()를 사용하고 원소를 삭제할 때에는 popleft()를 사용하면 된다.\n",
        "\n",
        "from collections import deque\n",
        "\n",
        "data = deque([2,3,4])\n",
        "data.appendleft(1)\n",
        "data.append(5)\n",
        "\n",
        "print(data)\n",
        "print(list(data))"
      ],
      "metadata": {
        "colab": {
          "base_uri": "https://localhost:8080/"
        },
        "id": "WDvrYAuUXlt6",
        "outputId": "78f43a8e-3c4c-46f3-a168-1636ce929d52"
      },
      "execution_count": null,
      "outputs": [
        {
          "output_type": "stream",
          "name": "stdout",
          "text": [
            "deque([1, 2, 3, 4, 5])\n",
            "[1, 2, 3, 4, 5]\n"
          ]
        }
      ]
    },
    {
      "cell_type": "code",
      "source": [
        "# Counter 해당 객체 내부의 원소가 몇 번식 등장했는지를 알려준다.\n",
        "from collections import Counter\n",
        "\n",
        "counter = Counter(['red', 'blue', 'green', 'red', \"blue\", 'blue'])\n",
        "\n",
        "print(counter['blue'])\n",
        "print(counter['green'])\n",
        "print(dict(counter))"
      ],
      "metadata": {
        "colab": {
          "base_uri": "https://localhost:8080/"
        },
        "id": "gHlSfklBZ0xf",
        "outputId": "9d586697-eb24-4cbb-d448-6e3c20acad79"
      },
      "execution_count": null,
      "outputs": [
        {
          "output_type": "stream",
          "name": "stdout",
          "text": [
            "3\n",
            "1\n",
            "{'red': 2, 'blue': 3, 'green': 1}\n"
          ]
        }
      ]
    },
    {
      "cell_type": "code",
      "source": [
        "# math\n",
        "import math\n",
        "\n",
        "print(math.factorial(5)) # 5!\n",
        "\n",
        "print(math.sqrt(7)) # 7의 제곱근\n",
        "\n",
        "print(math.gcd(21, 14)) # 21과 14의 최대 공약수\n",
        "\n",
        "print(math.pi) # pi 출력\n",
        "print(math.e) # 자연상수 e 출력"
      ],
      "metadata": {
        "colab": {
          "base_uri": "https://localhost:8080/"
        },
        "id": "5JLBLNCcaN6f",
        "outputId": "a5b0e587-0d00-4b45-f13b-0aea7a233038"
      },
      "execution_count": null,
      "outputs": [
        {
          "output_type": "stream",
          "name": "stdout",
          "text": [
            "120\n",
            "2.6457513110645907\n",
            "7\n",
            "3.141592653589793\n",
            "2.718281828459045\n"
          ]
        }
      ]
    },
    {
      "cell_type": "code",
      "source": [],
      "metadata": {
        "id": "C1CRW6IyaWL1"
      },
      "execution_count": null,
      "outputs": []
    }
  ],
  "metadata": {
    "colab": {
      "provenance": [],
      "authorship_tag": "ABX9TyPX2Zu/L2CEoPMw5VvLyHi6",
      "include_colab_link": true
    },
    "kernelspec": {
      "display_name": "Python 3",
      "name": "python3"
    },
    "language_info": {
      "name": "python"
    }
  },
  "nbformat": 4,
  "nbformat_minor": 0
}