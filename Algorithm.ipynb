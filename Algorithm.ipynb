{
  "nbformat": 4,
  "nbformat_minor": 0,
  "metadata": {
    "colab": {
      "provenance": [],
      "authorship_tag": "ABX9TyMRSzfl+PiXnKnjCaYTC1/j",
      "include_colab_link": true
    },
    "kernelspec": {
      "name": "python3",
      "display_name": "Python 3"
    },
    "language_info": {
      "name": "python"
    }
  },
  "cells": [
    {
      "cell_type": "markdown",
      "metadata": {
        "id": "view-in-github",
        "colab_type": "text"
      },
      "source": [
        "<a href=\"https://colab.research.google.com/github/CSSjieun/Python-Coding-Test-Algorithm/blob/main/Algorithm.ipynb\" target=\"_parent\"><img src=\"https://colab.research.google.com/assets/colab-badge.svg\" alt=\"Open In Colab\"/></a>"
      ]
    },
    {
      "cell_type": "markdown",
      "source": [
        "# 복잡도 complexity\n",
        "복잡도란 특정한 알고리즘이 계산적으로 얼마나 복잡한지를 나타내는 것이다.\n",
        "\n",
        "코딩 테스트에서 문제를 풀 때는 가독성을 해치지 않는 선에서 최대한 복잡도가 낮게 프로그램을 작성해야 한다.\n",
        "\n",
        "일반적으로 알고리즘 문제 풀이에서의 복잡도는 계산 복잡도를 의미하는 경우가 많으며, '소스코드가 복잡하게 생겼다'와는 다른 말로 사용된다는 점을 기억하자.\n",
        "\n",
        "이 책에서는 별 다른 언급이 없다면 '복잡도'란 시간 복잡도를 의미한다."
      ],
      "metadata": {
        "id": "gDSNACAxSPOH"
      }
    },
    {
      "cell_type": "code",
      "execution_count": 2,
      "metadata": {
        "colab": {
          "base_uri": "https://localhost:8080/"
        },
        "id": "zGlAevkKPmpA",
        "outputId": "7c49b17a-a4e9-4570-d351-031c9710df7f"
      },
      "outputs": [
        {
          "output_type": "stream",
          "name": "stdout",
          "text": [
            "15\n",
            "time : 0.0019588470458984375\n"
          ]
        }
      ],
      "source": [
        "# 수행시간 측정 소스코드\n",
        "import time\n",
        "start_time = time.time() # 측정 시작\n",
        "\n",
        "a = 6\n",
        "b = 9\n",
        "print(a + b)\n",
        "\n",
        "# 프로그램 소스 코드\n",
        "end_time = time.time() # 측정 종료\n",
        "print(\"time :\", end_time - start_time) # 수행 시간 출력"
      ]
    },
    {
      "cell_type": "code",
      "source": [
        "# 선택 정렬과 기본 정렬 라이브러리의 수행 시간 비교\n",
        "from random import randint\n",
        "import time\n",
        "\n",
        "# 배열에 10,000개의 정수 삽입\n",
        "array = []\n",
        "for _ in range(10000):\n",
        "    array.append(randint(1, 100)) # 1부터 100 사이의 랜덤한 정수\n",
        "\n",
        "# 선택 정렬 프로그램 성능 측정\n",
        "start_time = time.time()\n",
        "\n",
        "# 선택 정렬 프로그램 소스 코드\n",
        "for i in range(len(array)):\n",
        "    min_index = i # 가장 작은 원소의 인덱스\n",
        "    for j in range(i+1, len(array)):\n",
        "        if array[min_index] > array[j]:\n",
        "            min_index = j\n",
        "    array[i], array[min_index] = array[min_index], array[i] # 스와프\n",
        "\n",
        "end_time = time.time() # 측정 종료\n",
        "print(\"선택 정렬 성능 측정:\", end_time - start_time) # 수행 시간 출력"
      ],
      "metadata": {
        "colab": {
          "base_uri": "https://localhost:8080/"
        },
        "id": "bHpwpQuhQmaP",
        "outputId": "4f68251b-9230-49e3-d433-bd37b8afad4c"
      },
      "execution_count": 3,
      "outputs": [
        {
          "output_type": "stream",
          "name": "stdout",
          "text": [
            "선택 정렬 성능 측정: 9.449665546417236\n"
          ]
        }
      ]
    },
    {
      "cell_type": "code",
      "source": [
        "# 배열을 다시 무작위 데이터로 초기화\n",
        "array = []\n",
        "for _ in range (10000):\n",
        "    array.append(randint(1, 100)) # 1 부터 100 사이의 랜덤한 정수\n",
        "\n",
        "# 기본 정렬 라이브러리 성능 측정\n",
        "start_time = time.time()\n",
        "\n",
        "# 기본 정렬 라이브러리 사용\n",
        "array.sort()\n",
        "\n",
        "end_time = time.time() # 측정 종료\n",
        "print(\"기본 정렬 라이브러리 성능 측정:\", end_time - start_time) # 수행 시간 출력"
      ],
      "metadata": {
        "colab": {
          "base_uri": "https://localhost:8080/"
        },
        "id": "EPxi9sXnRdtS",
        "outputId": "180bd664-324c-4479-a24b-73658056eb19"
      },
      "execution_count": 5,
      "outputs": [
        {
          "output_type": "stream",
          "name": "stdout",
          "text": [
            "기본 정렬 라이브러리 성능 측정: 0.001995563507080078\n"
          ]
        }
      ]
    },
    {
      "cell_type": "markdown",
      "source": [
        "# 16~20년 코딩 테스트 기출문제 유형 분석\n"
      ],
      "metadata": {
        "id": "5wGX1vv5SuNv"
      }
    },
    {
      "cell_type": "code",
      "source": [],
      "metadata": {
        "id": "a23SuitRSyw1"
      },
      "execution_count": null,
      "outputs": []
    }
  ]
}